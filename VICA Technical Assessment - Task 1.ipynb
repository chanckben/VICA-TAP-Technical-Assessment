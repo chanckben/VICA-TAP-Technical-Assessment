{
 "cells": [
  {
   "cell_type": "markdown",
   "id": "f6f8a3cf",
   "metadata": {},
   "source": [
    "# VICA Technical Assessment - Task 1\n",
    "\n",
    "Name of candidate: Chan Choon Kong"
   ]
  },
  {
   "cell_type": "markdown",
   "id": "ef6192ed",
   "metadata": {},
   "source": [
    "## Import libraries"
   ]
  },
  {
   "cell_type": "code",
   "execution_count": 1,
   "id": "52926ec4",
   "metadata": {},
   "outputs": [],
   "source": [
    "import os\n",
    "import matplotlib.pyplot as plt\n",
    "import numpy as np\n",
    "import pandas as pd"
   ]
  },
  {
   "cell_type": "markdown",
   "id": "5acbf16f",
   "metadata": {},
   "source": [
    "## Load dataset\n",
    "\n",
    "The dataset is loaded into a pandas DataFrame. The data types of each column of the DataFrame are as follows:\n",
    "\n",
    "- `insuree#: int`\n",
    "- `gender: str`\n",
    "- `is45OrOlder: bool`\n",
    "- `hasKids: bool`\n",
    "- `insuredMonths: int`\n",
    "- `termLifeInsurance: bool`\n",
    "- `multipleTermLifePolicies: bool`\n",
    "- `healthInsurance: str`\n",
    "- `healthRiders: List[int]`\n",
    "- `premiumFrequency: int`\n",
    "- `eStatements: bool`\n",
    "- `monthlyPremium: float`\n",
    "- `totalPremium: float`\n",
    "- `renewal: bool`\n",
    "\n",
    "Simple preprocessing is done to convert the original data into the data types above. Empty values are preserved and will be handled during the data preprocessing phase afterwards."
   ]
  },
  {
   "cell_type": "code",
   "execution_count": 2,
   "id": "d6a59fab",
   "metadata": {},
   "outputs": [
    {
     "data": {
      "text/html": [
       "<div>\n",
       "<style scoped>\n",
       "    .dataframe tbody tr th:only-of-type {\n",
       "        vertical-align: middle;\n",
       "    }\n",
       "\n",
       "    .dataframe tbody tr th {\n",
       "        vertical-align: top;\n",
       "    }\n",
       "\n",
       "    .dataframe thead th {\n",
       "        text-align: right;\n",
       "    }\n",
       "</style>\n",
       "<table border=\"1\" class=\"dataframe\">\n",
       "  <thead>\n",
       "    <tr style=\"text-align: right;\">\n",
       "      <th></th>\n",
       "      <th>insuree#</th>\n",
       "      <th>gender</th>\n",
       "      <th>is45OrOlder</th>\n",
       "      <th>isMarried</th>\n",
       "      <th>hasKids</th>\n",
       "      <th>insuredMonths</th>\n",
       "      <th>termLifeInsurance</th>\n",
       "      <th>multipleTermLifePolicies</th>\n",
       "      <th>healthInsurance</th>\n",
       "      <th>healthRiders</th>\n",
       "      <th>premiumFrequency</th>\n",
       "      <th>eStatements</th>\n",
       "      <th>monthlyPremium</th>\n",
       "      <th>totalPremium</th>\n",
       "      <th>renewal</th>\n",
       "    </tr>\n",
       "  </thead>\n",
       "  <tbody>\n",
       "    <tr>\n",
       "      <th>0</th>\n",
       "      <td>1</td>\n",
       "      <td>F</td>\n",
       "      <td>False</td>\n",
       "      <td>True</td>\n",
       "      <td>True</td>\n",
       "      <td>23</td>\n",
       "      <td>True</td>\n",
       "      <td>False</td>\n",
       "      <td>No</td>\n",
       "      <td>[]</td>\n",
       "      <td>12</td>\n",
       "      <td>True</td>\n",
       "      <td>19.65</td>\n",
       "      <td>451.55</td>\n",
       "      <td>True</td>\n",
       "    </tr>\n",
       "    <tr>\n",
       "      <th>1</th>\n",
       "      <td>2</td>\n",
       "      <td>F</td>\n",
       "      <td>True</td>\n",
       "      <td>False</td>\n",
       "      <td>False</td>\n",
       "      <td>42</td>\n",
       "      <td>True</td>\n",
       "      <td>True</td>\n",
       "      <td>Class A</td>\n",
       "      <td>[3]</td>\n",
       "      <td>1</td>\n",
       "      <td>True</td>\n",
       "      <td>84.65</td>\n",
       "      <td>3541.35</td>\n",
       "      <td>False</td>\n",
       "    </tr>\n",
       "    <tr>\n",
       "      <th>2</th>\n",
       "      <td>3</td>\n",
       "      <td>F</td>\n",
       "      <td>False</td>\n",
       "      <td>True</td>\n",
       "      <td>False</td>\n",
       "      <td>72</td>\n",
       "      <td>True</td>\n",
       "      <td>False</td>\n",
       "      <td>No</td>\n",
       "      <td>[]</td>\n",
       "      <td>12</td>\n",
       "      <td>False</td>\n",
       "      <td>19.40</td>\n",
       "      <td>1496.45</td>\n",
       "      <td>True</td>\n",
       "    </tr>\n",
       "    <tr>\n",
       "      <th>3</th>\n",
       "      <td>4</td>\n",
       "      <td>F</td>\n",
       "      <td>False</td>\n",
       "      <td>True</td>\n",
       "      <td>True</td>\n",
       "      <td>13</td>\n",
       "      <td>True</td>\n",
       "      <td>False</td>\n",
       "      <td>No</td>\n",
       "      <td>[]</td>\n",
       "      <td>12</td>\n",
       "      <td>False</td>\n",
       "      <td>19.55</td>\n",
       "      <td>265.30</td>\n",
       "      <td>True</td>\n",
       "    </tr>\n",
       "    <tr>\n",
       "      <th>4</th>\n",
       "      <td>5</td>\n",
       "      <td>F</td>\n",
       "      <td>False</td>\n",
       "      <td>False</td>\n",
       "      <td>False</td>\n",
       "      <td>37</td>\n",
       "      <td>True</td>\n",
       "      <td>True</td>\n",
       "      <td>Class A</td>\n",
       "      <td>[3, 4]</td>\n",
       "      <td>1</td>\n",
       "      <td>False</td>\n",
       "      <td>100.30</td>\n",
       "      <td>3541.40</td>\n",
       "      <td>True</td>\n",
       "    </tr>\n",
       "  </tbody>\n",
       "</table>\n",
       "</div>"
      ],
      "text/plain": [
       "   insuree# gender is45OrOlder  isMarried  hasKids  insuredMonths  \\\n",
       "0         1      F       False       True     True             23   \n",
       "1         2      F        True      False    False             42   \n",
       "2         3      F       False       True    False             72   \n",
       "3         4      F       False       True     True             13   \n",
       "4         5      F       False      False    False             37   \n",
       "\n",
       "   termLifeInsurance  multipleTermLifePolicies healthInsurance healthRiders  \\\n",
       "0               True                     False              No           []   \n",
       "1               True                      True         Class A          [3]   \n",
       "2               True                     False              No           []   \n",
       "3               True                     False              No           []   \n",
       "4               True                      True         Class A       [3, 4]   \n",
       "\n",
       "   premiumFrequency  eStatements  monthlyPremium  totalPremium  renewal  \n",
       "0                12         True           19.65        451.55     True  \n",
       "1                 1         True           84.65       3541.35    False  \n",
       "2                12        False           19.40       1496.45     True  \n",
       "3                12        False           19.55        265.30     True  \n",
       "4                 1        False          100.30       3541.40     True  "
      ]
     },
     "execution_count": 2,
     "metadata": {},
     "output_type": "execute_result"
    }
   ],
   "source": [
    "dataset_dir = os.path.join(os.curdir, 'mol-vica-ds-challenge-dataset', 'insurance_data.csv')\n",
    "\n",
    "# Define converters\n",
    "float_to_bool = lambda x: x == '1.0' if x else None\n",
    "yesno_to_bool = lambda x: (x == 'Yes' or x == 'Y') if x else None\n",
    "csfloat_to_dec = lambda x: float(x.replace(',', '.')) if x.replace(',', '.').strip() else np.nan\n",
    "csint_to_lst = lambda x: list(map(lambda y: int(y), x.split(','))) if x.split(',')[0] else []\n",
    "\n",
    "df = pd.read_csv(dataset_dir, sep=';', converters={\n",
    "    'is45OrOlder': float_to_bool, \n",
    "    'isMarried': yesno_to_bool, \n",
    "    'hasKids': yesno_to_bool, \n",
    "    'termLifeInsurance': yesno_to_bool, \n",
    "    'multipleTermLifePolicies': yesno_to_bool,\n",
    "    'eStatements': yesno_to_bool,\n",
    "    'renewal': yesno_to_bool,\n",
    "    'healthRiders': csint_to_lst\n",
    "})\n",
    "\n",
    "# Note: Int64 writes <NA> for empty integer fields\n",
    "df['premiumFrequency'] = df['premiumFrequency'].astype('Int64')\n",
    "df['monthlyPremium'] = df['monthlyPremium'].apply(csfloat_to_dec)\n",
    "df['totalPremium'] = df['totalPremium'].apply(csfloat_to_dec)\n",
    "df.head(5)"
   ]
  },
  {
   "cell_type": "markdown",
   "id": "dfe8c6d1",
   "metadata": {},
   "source": [
    "## Data Processing"
   ]
  },
  {
   "cell_type": "markdown",
   "id": "3413335d",
   "metadata": {},
   "source": [
    "### Validity of Data\n",
    "\n",
    "I will check if there are any rows with invalid data. In this task, I assume that the following criteria implies that the data is invalid.\n",
    "- Insuree who has multiple term life policies but not a term life policy\n",
    "- Insuree who does not have term life insurance or health insurance\n",
    "- Insuree who does not have health insurance but has riders\n",
    "- Insuree whose total premium is less than their monthly premium"
   ]
  },
  {
   "cell_type": "code",
   "execution_count": 3,
   "id": "aecf0b49",
   "metadata": {},
   "outputs": [
    {
     "name": "stdout",
     "output_type": "stream",
     "text": [
      "Found 1 invalid row: \n"
     ]
    },
    {
     "data": {
      "text/html": [
       "<div>\n",
       "<style scoped>\n",
       "    .dataframe tbody tr th:only-of-type {\n",
       "        vertical-align: middle;\n",
       "    }\n",
       "\n",
       "    .dataframe tbody tr th {\n",
       "        vertical-align: top;\n",
       "    }\n",
       "\n",
       "    .dataframe thead th {\n",
       "        text-align: right;\n",
       "    }\n",
       "</style>\n",
       "<table border=\"1\" class=\"dataframe\">\n",
       "  <thead>\n",
       "    <tr style=\"text-align: right;\">\n",
       "      <th></th>\n",
       "      <th>insuree#</th>\n",
       "      <th>gender</th>\n",
       "      <th>is45OrOlder</th>\n",
       "      <th>isMarried</th>\n",
       "      <th>hasKids</th>\n",
       "      <th>insuredMonths</th>\n",
       "      <th>termLifeInsurance</th>\n",
       "      <th>multipleTermLifePolicies</th>\n",
       "      <th>healthInsurance</th>\n",
       "      <th>healthRiders</th>\n",
       "      <th>premiumFrequency</th>\n",
       "      <th>eStatements</th>\n",
       "      <th>monthlyPremium</th>\n",
       "      <th>totalPremium</th>\n",
       "      <th>renewal</th>\n",
       "    </tr>\n",
       "  </thead>\n",
       "  <tbody>\n",
       "    <tr>\n",
       "      <th>2115</th>\n",
       "      <td>2116</td>\n",
       "      <td>M</td>\n",
       "      <td>True</td>\n",
       "      <td>False</td>\n",
       "      <td>False</td>\n",
       "      <td>38</td>\n",
       "      <td>True</td>\n",
       "      <td>True</td>\n",
       "      <td>Class A</td>\n",
       "      <td>[3, 4]</td>\n",
       "      <td>1</td>\n",
       "      <td>False</td>\n",
       "      <td>9475.0</td>\n",
       "      <td>3653.0</td>\n",
       "      <td>True</td>\n",
       "    </tr>\n",
       "  </tbody>\n",
       "</table>\n",
       "</div>"
      ],
      "text/plain": [
       "      insuree# gender is45OrOlder  isMarried  hasKids  insuredMonths  \\\n",
       "2115      2116      M        True      False    False             38   \n",
       "\n",
       "      termLifeInsurance  multipleTermLifePolicies healthInsurance  \\\n",
       "2115               True                      True         Class A   \n",
       "\n",
       "     healthRiders  premiumFrequency  eStatements  monthlyPremium  \\\n",
       "2115       [3, 4]                 1        False          9475.0   \n",
       "\n",
       "      totalPremium  renewal  \n",
       "2115        3653.0     True  "
      ]
     },
     "execution_count": 3,
     "metadata": {},
     "output_type": "execute_result"
    }
   ],
   "source": [
    "invalid_df = df.loc[(df['multipleTermLifePolicies'] == True) & (df['termLifeInsurance'] == False)]\n",
    "invalid_df = pd.concat([invalid_df, df.loc[(df['termLifeInsurance'] == False) & (df['healthInsurance'] == 'No')]])\n",
    "invalid_df = pd.concat([invalid_df, df.loc[(df['healthInsurance'] == False) & (df['healthRiders'].astype(bool) == True)]])\n",
    "invalid_df = pd.concat([invalid_df, df.loc[df['totalPremium'] < df['monthlyPremium']]])\n",
    "if invalid_df.shape[0] != 0:\n",
    "    print(\"Found {0} invalid row: \".format(invalid_df.shape[0]))\n",
    "else:\n",
    "    print(\"Data is valid\")\n",
    "invalid_df"
   ]
  },
  {
   "cell_type": "markdown",
   "id": "b32c8249",
   "metadata": {},
   "source": [
    "Based on the criteria above, I found 1 invalid row where the total premium exceeds the monthly premium. Therefore this row will be removed from the dataset."
   ]
  },
  {
   "cell_type": "code",
   "execution_count": 4,
   "id": "cf34a19e",
   "metadata": {},
   "outputs": [],
   "source": [
    "to_drop = invalid_df.index.values.tolist()\n",
    "df = df.drop(to_drop)"
   ]
  },
  {
   "cell_type": "markdown",
   "id": "33d6599a",
   "metadata": {},
   "source": [
    "### Outlier Detection\n",
    "\n",
    "I will first identify the outliers present in the numeric features of the dataset. Outliers are defined as points which lie outside 1.5 times the interquartile range, i.e. outside [(Q1 - 1.5 * IQR), (Q3 + 1.5 * IQR)], where Q1 and Q3 are the first and third quartiles respectively and IQR is the interquartile range."
   ]
  },
  {
   "cell_type": "code",
   "execution_count": null,
   "id": "90433eee",
   "metadata": {},
   "outputs": [],
   "source": [
    "fig, axes = plt.subplots(1, 3, figsize=(14,8))\n",
    "df['insuredMonths'].plot(kind='box', notch=False, sym='+', vert=True, whis=1.5, ax=axes[0])\n",
    "df['monthlyPremium'].plot(kind='box', notch=False, sym='+', vert=True, whis=1.5, ax=axes[1])\n",
    "df['totalPremium'].plot(kind='box', notch=False, sym='+', vert=True, whis=1.5, ax=axes[2])"
   ]
  },
  {
   "cell_type": "markdown",
   "id": "2bef098c",
   "metadata": {},
   "source": [
    "As we can see, there are plenty of outliers especially for `monthlyPremium` and `totalPremium`. We can also find out the total number of outliers for each feature."
   ]
  },
  {
   "cell_type": "code",
   "execution_count": null,
   "id": "f6d9ddb3",
   "metadata": {},
   "outputs": [],
   "source": [
    "sub_df = df[['insuredMonths', 'monthlyPremium', 'totalPremium']]\n",
    "Q1 = sub_df.quantile(0.25)\n",
    "Q3 = sub_df.quantile(0.75)\n",
    "IQR = Q3 - Q1\n",
    "outlier_df = ((sub_df < (Q1 - 1.5 * IQR)) | (sub_df > (Q3 + 1.5 * IQR)))\n",
    "print(\"Number of rows with at least 1 outlier: {0}\".format(outlier_df.any(1).sum()))\n",
    "print(\"Total number of outliers for each feature:\")\n",
    "((sub_df < (Q1 - 1.5 * IQR)) | (sub_df > (Q3 + 1.5 * IQR))).sum()"
   ]
  },
  {
   "cell_type": "markdown",
   "id": "b7681ff9",
   "metadata": {},
   "source": [
    "Since there are only 79 rows with at least 1 outlier which makes up a small proportion (1.44%) of the total dataset, they can be removed from the dataset."
   ]
  },
  {
   "cell_type": "code",
   "execution_count": null,
   "id": "611996ef",
   "metadata": {},
   "outputs": [],
   "source": [
    "to_drop = outlier_df[outlier_df.any(1)].index.tolist()\n",
    "df = df.drop(to_drop)"
   ]
  }
 ],
 "metadata": {
  "kernelspec": {
   "display_name": "Python 3 (ipykernel)",
   "language": "python",
   "name": "python3"
  },
  "language_info": {
   "codemirror_mode": {
    "name": "ipython",
    "version": 3
   },
   "file_extension": ".py",
   "mimetype": "text/x-python",
   "name": "python",
   "nbconvert_exporter": "python",
   "pygments_lexer": "ipython3",
   "version": "3.9.12"
  }
 },
 "nbformat": 4,
 "nbformat_minor": 5
}
