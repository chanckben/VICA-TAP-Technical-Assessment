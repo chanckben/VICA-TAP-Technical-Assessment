{
 "cells": [
  {
   "cell_type": "markdown",
   "id": "7909b1e3",
   "metadata": {},
   "source": [
    "# VICA Technical Assessment - Task 2\n",
    "\n",
    "Name of candidate: Chan Choon Kong"
   ]
  },
  {
   "cell_type": "markdown",
   "id": "7a2dade7",
   "metadata": {},
   "source": [
    "## Import libraries"
   ]
  },
  {
   "cell_type": "code",
   "execution_count": 14,
   "id": "d7197099",
   "metadata": {},
   "outputs": [],
   "source": [
    "# !pip install pymongo\n",
    "import os\n",
    "import pymongo\n",
    "import pandas as pd\n",
    "import numpy as np\n",
    "from pymongo import MongoClient\n",
    "from collections import OrderedDict"
   ]
  },
  {
   "cell_type": "markdown",
   "id": "9a2424d6",
   "metadata": {},
   "source": [
    "## Set up database\n",
    "### Making a connection with MongoClient"
   ]
  },
  {
   "cell_type": "code",
   "execution_count": 6,
   "id": "e8b1e7d8",
   "metadata": {},
   "outputs": [
    {
     "data": {
      "text/plain": [
       "Database(MongoClient(host=['localhost:27017'], document_class=dict, tz_aware=False, connect=True), 'test')"
      ]
     },
     "execution_count": 6,
     "metadata": {},
     "output_type": "execute_result"
    }
   ],
   "source": [
    "client = MongoClient('localhost', 27017)\n",
    "db = client['test']\n",
    "db"
   ]
  },
  {
   "cell_type": "markdown",
   "id": "9cc43491",
   "metadata": {},
   "source": [
    "### Create collection for data"
   ]
  },
  {
   "cell_type": "code",
   "execution_count": 7,
   "id": "fcf5b970",
   "metadata": {},
   "outputs": [
    {
     "data": {
      "text/plain": [
       "['insuranceData']"
      ]
     },
     "execution_count": 7,
     "metadata": {},
     "output_type": "execute_result"
    }
   ],
   "source": [
    "# if \"insuranceData\" not in db.list_collection_names():\n",
    "#     db.create_collection(\"insuranceData\")\n",
    "db.create_collection(\"insuranceData\")\n",
    "db.list_collection_names()"
   ]
  },
  {
   "cell_type": "markdown",
   "id": "2d81f24b",
   "metadata": {},
   "source": [
    "### Define schema validation rules"
   ]
  },
  {
   "cell_type": "code",
   "execution_count": 8,
   "id": "61741e52",
   "metadata": {},
   "outputs": [
    {
     "data": {
      "text/plain": [
       "{'ok': 1.0}"
      ]
     },
     "execution_count": 8,
     "metadata": {},
     "output_type": "execute_result"
    }
   ],
   "source": [
    "schema = {\n",
    "    \"$jsonSchema\": {\n",
    "        \"bsonType\": \"object\",\n",
    "        \"required\": [\"insuree#\", \"isMarried\", \"hasKids\", \"insuredMonths\", \"termLifeInsurance\", \"healthInsurance\", \"eStatements\", \"monthlyPremium\", \"renewal\"],\n",
    "        \"properties\": {\n",
    "            \"insuree#\": {\n",
    "                \"bsonType\": \"int\",\n",
    "                \"description\": \"ID  of the insuree\"\n",
    "            },\n",
    "            \"gender\": {\n",
    "                \"enum\": [\"M\", \"F\"],\n",
    "                \"description\": \"M or F\"\n",
    "            },\n",
    "            \"is45OrOlder\": {\n",
    "                \"bsonType\": \"bool\",\n",
    "                \"description\": \"Is insuree >= 45 years old?\"\n",
    "            },\n",
    "            \"isMarried\": {\n",
    "                \"bsonType\": \"bool\",\n",
    "                \"description\": \"Is insuree married?\"\n",
    "            },\n",
    "            \"hasKids\": {\n",
    "                \"bsonType\": \"bool\",\n",
    "                \"description\": \"Does the insuree have kids?\"\n",
    "            },\n",
    "            \"insuredMonths\": {\n",
    "                \"bsonType\": \"int\",\n",
    "                \"description\": \"Months of active insurance\"\n",
    "            },\n",
    "            \"termLifeInsurance\": {\n",
    "                \"bsonType\": \"object\",\n",
    "                \"required\": [\"hasPolicy\", \"hasMultiplePolicies\"],\n",
    "                \"properties\": {\n",
    "                    \"hasPolicy\": {\n",
    "                        \"bsonType\": \"bool\",\n",
    "                        \"description\": \"Does insuree have term life policy?\"\n",
    "                    },\n",
    "                    \"hasMultiplePolicies\": {\n",
    "                        \"bsonType\": \"bool\",\n",
    "                        \"description\": \"Does insuree hold multiple term life policies?\"\n",
    "                    }\n",
    "                }\n",
    "            },\n",
    "            \"healthInsurance\": {\n",
    "                \"bsonType\": \"object\",\n",
    "                \"required\": [\"hasPolicy\", \"riders\"],\n",
    "                \"properties\": {\n",
    "                    \"hasPolicy\": {\n",
    "                        \"bsonType\": \"bool\",\n",
    "                        \"description\": \"Does insuree have health insurance?\"\n",
    "                    },\n",
    "                    \"riders\": {\n",
    "                        \"bsonType\": \"array\",\n",
    "                        \"items\": {\n",
    "                            \"enum\": [1, 2, 3, 4]\n",
    "                        },\n",
    "                        \"description\": \"Does insuree have riders on this health policy?\"\n",
    "                    }\n",
    "                }\n",
    "            },\n",
    "            \"premiumFrequency\": {\n",
    "                \"enum\": [1, 3, 12],\n",
    "                \"description\": \"Premium due monthly, quarterly, annually\"\n",
    "            },\n",
    "            \"eStatements\": {\n",
    "                \"bsonType\": \"bool\",\n",
    "                \"description\": \"Opted in for e-statements and e-policies?\"\n",
    "            },\n",
    "            \"monthlyPremium\": {\n",
    "                \"bsonType\": \"double\",\n",
    "                \"description\": \"Premium amount monthly\"\n",
    "            },\n",
    "            \"totalPremium\": {\n",
    "                \"bsonType\": \"double\",\n",
    "                \"description\": \"Total premium amount\"\n",
    "            },\n",
    "            \"renewal\": {\n",
    "                \"bsonType\": \"bool\",\n",
    "                \"description\": \"Does insuree renew at next premium cycle?\"\n",
    "            }\n",
    "        }\n",
    "    }\n",
    "}\n",
    "\n",
    "cmd = OrderedDict([('collMod', 'insuranceData'), ('validator', schema)])\n",
    "db.command(cmd)"
   ]
  },
  {
   "cell_type": "markdown",
   "id": "024a1932",
   "metadata": {},
   "source": [
    "## Load dataset"
   ]
  },
  {
   "cell_type": "code",
   "execution_count": 20,
   "id": "6fc6e82f",
   "metadata": {},
   "outputs": [
    {
     "data": {
      "text/html": [
       "<div>\n",
       "<style scoped>\n",
       "    .dataframe tbody tr th:only-of-type {\n",
       "        vertical-align: middle;\n",
       "    }\n",
       "\n",
       "    .dataframe tbody tr th {\n",
       "        vertical-align: top;\n",
       "    }\n",
       "\n",
       "    .dataframe thead th {\n",
       "        text-align: right;\n",
       "    }\n",
       "</style>\n",
       "<table border=\"1\" class=\"dataframe\">\n",
       "  <thead>\n",
       "    <tr style=\"text-align: right;\">\n",
       "      <th></th>\n",
       "      <th>insuree#</th>\n",
       "      <th>gender</th>\n",
       "      <th>is45OrOlder</th>\n",
       "      <th>isMarried</th>\n",
       "      <th>hasKids</th>\n",
       "      <th>insuredMonths</th>\n",
       "      <th>termLifeInsurance</th>\n",
       "      <th>multipleTermLifePolicies</th>\n",
       "      <th>healthInsurance</th>\n",
       "      <th>healthRiders</th>\n",
       "      <th>premiumFrequency</th>\n",
       "      <th>eStatements</th>\n",
       "      <th>monthlyPremium</th>\n",
       "      <th>totalPremium</th>\n",
       "      <th>renewal</th>\n",
       "    </tr>\n",
       "  </thead>\n",
       "  <tbody>\n",
       "    <tr>\n",
       "      <th>0</th>\n",
       "      <td>1</td>\n",
       "      <td>F</td>\n",
       "      <td>False</td>\n",
       "      <td>True</td>\n",
       "      <td>True</td>\n",
       "      <td>23</td>\n",
       "      <td>True</td>\n",
       "      <td>False</td>\n",
       "      <td>No</td>\n",
       "      <td>[]</td>\n",
       "      <td>12</td>\n",
       "      <td>True</td>\n",
       "      <td>19.65</td>\n",
       "      <td>451.55</td>\n",
       "      <td>True</td>\n",
       "    </tr>\n",
       "    <tr>\n",
       "      <th>1</th>\n",
       "      <td>2</td>\n",
       "      <td>F</td>\n",
       "      <td>True</td>\n",
       "      <td>False</td>\n",
       "      <td>False</td>\n",
       "      <td>42</td>\n",
       "      <td>True</td>\n",
       "      <td>True</td>\n",
       "      <td>Class A</td>\n",
       "      <td>[3]</td>\n",
       "      <td>1</td>\n",
       "      <td>True</td>\n",
       "      <td>84.65</td>\n",
       "      <td>3541.35</td>\n",
       "      <td>False</td>\n",
       "    </tr>\n",
       "    <tr>\n",
       "      <th>2</th>\n",
       "      <td>3</td>\n",
       "      <td>F</td>\n",
       "      <td>False</td>\n",
       "      <td>True</td>\n",
       "      <td>False</td>\n",
       "      <td>72</td>\n",
       "      <td>True</td>\n",
       "      <td>False</td>\n",
       "      <td>No</td>\n",
       "      <td>[]</td>\n",
       "      <td>12</td>\n",
       "      <td>False</td>\n",
       "      <td>19.40</td>\n",
       "      <td>1496.45</td>\n",
       "      <td>True</td>\n",
       "    </tr>\n",
       "    <tr>\n",
       "      <th>3</th>\n",
       "      <td>4</td>\n",
       "      <td>F</td>\n",
       "      <td>False</td>\n",
       "      <td>True</td>\n",
       "      <td>True</td>\n",
       "      <td>13</td>\n",
       "      <td>True</td>\n",
       "      <td>False</td>\n",
       "      <td>No</td>\n",
       "      <td>[]</td>\n",
       "      <td>12</td>\n",
       "      <td>False</td>\n",
       "      <td>19.55</td>\n",
       "      <td>265.30</td>\n",
       "      <td>True</td>\n",
       "    </tr>\n",
       "    <tr>\n",
       "      <th>4</th>\n",
       "      <td>5</td>\n",
       "      <td>F</td>\n",
       "      <td>False</td>\n",
       "      <td>False</td>\n",
       "      <td>False</td>\n",
       "      <td>37</td>\n",
       "      <td>True</td>\n",
       "      <td>True</td>\n",
       "      <td>Class A</td>\n",
       "      <td>[3, 4]</td>\n",
       "      <td>1</td>\n",
       "      <td>False</td>\n",
       "      <td>100.30</td>\n",
       "      <td>3541.40</td>\n",
       "      <td>True</td>\n",
       "    </tr>\n",
       "  </tbody>\n",
       "</table>\n",
       "</div>"
      ],
      "text/plain": [
       "   insuree# gender is45OrOlder  isMarried  hasKids  insuredMonths  \\\n",
       "0         1      F       False       True     True             23   \n",
       "1         2      F        True      False    False             42   \n",
       "2         3      F       False       True    False             72   \n",
       "3         4      F       False       True     True             13   \n",
       "4         5      F       False      False    False             37   \n",
       "\n",
       "   termLifeInsurance  multipleTermLifePolicies healthInsurance healthRiders  \\\n",
       "0               True                     False              No           []   \n",
       "1               True                      True         Class A          [3]   \n",
       "2               True                     False              No           []   \n",
       "3               True                     False              No           []   \n",
       "4               True                      True         Class A       [3, 4]   \n",
       "\n",
       "   premiumFrequency  eStatements  monthlyPremium  totalPremium  renewal  \n",
       "0                12         True           19.65        451.55     True  \n",
       "1                 1         True           84.65       3541.35    False  \n",
       "2                12        False           19.40       1496.45     True  \n",
       "3                12        False           19.55        265.30     True  \n",
       "4                 1        False          100.30       3541.40     True  "
      ]
     },
     "execution_count": 20,
     "metadata": {},
     "output_type": "execute_result"
    }
   ],
   "source": [
    "dataset_dir = os.path.join(os.curdir, 'mol-vica-ds-challenge-dataset', 'insurance_data.csv')\n",
    "\n",
    "# Define converters\n",
    "float_to_bool = lambda x: x == '1.0' if x else None\n",
    "yesno_to_bool = lambda x: (x == 'Yes' or x == 'Y') if x else None\n",
    "csfloat_to_dec = lambda x: float(x.replace(',', '.')) if x.replace(',', '.').strip() else np.nan\n",
    "csint_to_lst = lambda x: list(map(lambda y: int(y), x.split(','))) if x.split(',')[0] else []\n",
    "\n",
    "df = pd.read_csv(dataset_dir, sep=';', converters={\n",
    "    'is45OrOlder': float_to_bool, \n",
    "    'isMarried': yesno_to_bool, \n",
    "    'hasKids': yesno_to_bool, \n",
    "    'termLifeInsurance': yesno_to_bool, \n",
    "    'multipleTermLifePolicies': yesno_to_bool,\n",
    "    'eStatements': yesno_to_bool,\n",
    "    'renewal': yesno_to_bool,\n",
    "    'healthRiders': csint_to_lst\n",
    "})\n",
    "\n",
    "# Note: Int64 writes <NA> for empty integer fields\n",
    "df['premiumFrequency'] = df['premiumFrequency'].astype('Int64')\n",
    "df['monthlyPremium'] = df['monthlyPremium'].apply(csfloat_to_dec)\n",
    "df['totalPremium'] = df['totalPremium'].apply(csfloat_to_dec)\n",
    "df.head(5)"
   ]
  },
  {
   "cell_type": "code",
   "execution_count": 34,
   "id": "a67621dd",
   "metadata": {},
   "outputs": [
    {
     "name": "stdout",
     "output_type": "stream",
     "text": [
      "Columns with missing inputs: ['gender', 'is45OrOlder', 'premiumFrequency', 'totalPremium']\n"
     ]
    }
   ],
   "source": [
    "cols_missing = df.columns[df.isnull().any()].tolist()\n",
    "print(\"Columns with missing inputs: {0}\".format(cols_missing))"
   ]
  },
  {
   "cell_type": "code",
   "execution_count": 38,
   "id": "9f4ad005",
   "metadata": {},
   "outputs": [],
   "source": [
    "def process_row_record(dic):\n",
    "    dic['termLifeInsurance'] = {\n",
    "        'hasPolicy': dic['termLifeInsurance'],\n",
    "        'hasMultiplePolicies': dic['multipleTermLifePolicies']\n",
    "    }\n",
    "    dic['healthInsurance'] = {\n",
    "        'hasPolicy': dic['healthInsurance'] != 'No',\n",
    "        'riders': dic['healthRiders']\n",
    "    }\n",
    "\n",
    "    del dic['multipleTermLifePolicies']\n",
    "    del dic['healthRiders']\n",
    "    for col in cols_missing:\n",
    "        if pd.isna(dic[col]):\n",
    "            del dic[col]\n",
    "    return dic"
   ]
  },
  {
   "cell_type": "markdown",
   "id": "9238d91c",
   "metadata": {},
   "source": [
    "## Push data into MongoDB"
   ]
  },
  {
   "cell_type": "code",
   "execution_count": 39,
   "id": "e63276bd",
   "metadata": {},
   "outputs": [],
   "source": [
    "for dic in df.to_dict(orient='records'):\n",
    "    dic = process_row_record(dic)\n",
    "    # Insert into database\n",
    "    db.insuranceData.insert_one(dic)"
   ]
  },
  {
   "cell_type": "code",
   "execution_count": 48,
   "id": "4c267d52",
   "metadata": {},
   "outputs": [
    {
     "data": {
      "text/plain": [
       "{'_id': ObjectId('62f65c4cde12319ef35fc315'),\n",
       " 'insuree#': 21,\n",
       " 'gender': 'F',\n",
       " 'is45OrOlder': True,\n",
       " 'isMarried': False,\n",
       " 'hasKids': False,\n",
       " 'insuredMonths': 4,\n",
       " 'termLifeInsurance': {'hasPolicy': True, 'hasMultiplePolicies': True},\n",
       " 'healthInsurance': {'hasPolicy': True, 'riders': []},\n",
       " 'eStatements': True,\n",
       " 'monthlyPremium': 74.45,\n",
       " 'totalPremium': 294.45,\n",
       " 'renewal': True}"
      ]
     },
     "execution_count": 48,
     "metadata": {},
     "output_type": "execute_result"
    }
   ],
   "source": [
    "db.insuranceData.find_one({'premiumFrequency': {\"$exists\": False}})"
   ]
  }
 ],
 "metadata": {
  "kernelspec": {
   "display_name": "Python 3 (ipykernel)",
   "language": "python",
   "name": "python3"
  },
  "language_info": {
   "codemirror_mode": {
    "name": "ipython",
    "version": 3
   },
   "file_extension": ".py",
   "mimetype": "text/x-python",
   "name": "python",
   "nbconvert_exporter": "python",
   "pygments_lexer": "ipython3",
   "version": "3.9.12"
  }
 },
 "nbformat": 4,
 "nbformat_minor": 5
}
