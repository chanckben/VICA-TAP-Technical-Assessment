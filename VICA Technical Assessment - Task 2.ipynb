{
 "cells": [
  {
   "cell_type": "markdown",
   "id": "0f343802",
   "metadata": {},
   "source": [
    "# VICA Technical Assessment - Task 2\n",
    "\n",
    "Name of candidate: Chan Choon Kong"
   ]
  },
  {
   "cell_type": "markdown",
   "id": "1ab13ed1",
   "metadata": {},
   "source": [
    "## Import libraries"
   ]
  },
  {
   "cell_type": "code",
   "execution_count": 10,
   "id": "a976d729",
   "metadata": {},
   "outputs": [],
   "source": [
    "# !pip install pymongo\n",
    "import pymongo\n",
    "from pymongo import MongoClient\n",
    "from collections import OrderedDict"
   ]
  },
  {
   "cell_type": "markdown",
   "id": "60d8af4b",
   "metadata": {},
   "source": [
    "## Making a connection with MongoClient"
   ]
  },
  {
   "cell_type": "code",
   "execution_count": 4,
   "id": "b8747bfd",
   "metadata": {},
   "outputs": [
    {
     "data": {
      "text/plain": [
       "Database(MongoClient(host=['localhost:27017'], document_class=dict, tz_aware=False, connect=True), 'test')"
      ]
     },
     "execution_count": 4,
     "metadata": {},
     "output_type": "execute_result"
    }
   ],
   "source": [
    "client = MongoClient('localhost', 27017)\n",
    "db = client['test']\n",
    "db"
   ]
  },
  {
   "cell_type": "markdown",
   "id": "46065303",
   "metadata": {},
   "source": [
    "## Create collection for data"
   ]
  },
  {
   "cell_type": "code",
   "execution_count": 6,
   "id": "89794a51",
   "metadata": {},
   "outputs": [
    {
     "name": "stdout",
     "output_type": "stream",
     "text": [
      "[]\n",
      "['insuranceData']\n"
     ]
    }
   ],
   "source": [
    "db.create_collection(\"insuranceData\")\n",
    "db.list_collection_names()"
   ]
  },
  {
   "cell_type": "markdown",
   "id": "aeb0ec52",
   "metadata": {},
   "source": [
    "## Define validation rules"
   ]
  },
  {
   "cell_type": "code",
   "execution_count": 13,
   "id": "3d5d9c99",
   "metadata": {},
   "outputs": [
    {
     "data": {
      "text/plain": [
       "{'ok': 1.0}"
      ]
     },
     "execution_count": 13,
     "metadata": {},
     "output_type": "execute_result"
    }
   ],
   "source": [
    "schema = {\n",
    "    \"$jsonSchema\": {\n",
    "        \"bsonType\": \"object\",\n",
    "        \"required\": [\"insuree#\", \"isMarried\", \"hasKids\", \"insuredMonths\", \"termLifeInsurance\", \"healthInsurance\", \"eStatements\", \"monthlyPremium\", \"renewal\"],\n",
    "        \"properties\": {\n",
    "            \"insuree#\": {\n",
    "                \"bsonType\": \"int\",\n",
    "                \"description\": \"ID  of the insuree\"\n",
    "            },\n",
    "            \"gender\": {\n",
    "                \"enum\": [\"M\", \"F\"],\n",
    "                \"description\": \"M or F\"\n",
    "            },\n",
    "            \"is45OrOlder\": {\n",
    "                \"bsonType\": \"bool\",\n",
    "                \"description\": \"Is insuree >= 45 years old?\"\n",
    "            },\n",
    "            \"isMarried\": {\n",
    "                \"bsonType\": \"bool\",\n",
    "                \"description\": \"Is insuree married?\"\n",
    "            },\n",
    "            \"hasKids\": {\n",
    "                \"bsonType\": \"bool\",\n",
    "                \"description\": \"Does the insuree have kids?\"\n",
    "            },\n",
    "            \"insuredMonths\": {\n",
    "                \"bsonType\": \"int\",\n",
    "                \"description\": \"Months of active insurance\"\n",
    "            },\n",
    "            \"termLifeInsurance\": {\n",
    "                \"bsonType\": \"object\",\n",
    "                \"required\": [\"hasPolicy\", \"hasMultiplePolicies\"],\n",
    "                \"properties\": {\n",
    "                    \"hasPolicy\": {\n",
    "                        \"bsonType\": \"bool\",\n",
    "                        \"description\": \"Does insuree have term life policy?\"\n",
    "                    },\n",
    "                    \"hasMultiplePolicies\": {\n",
    "                        \"bsonType\": \"bool\",\n",
    "                        \"description\": \"Does insuree hold multiple term life policies?\"\n",
    "                    }\n",
    "                }\n",
    "            },\n",
    "            \"healthInsurance\": {\n",
    "                \"bsonType\": \"object\",\n",
    "                \"required\": [\"hasPolicy\", \"riders\"],\n",
    "                \"properties\": {\n",
    "                    \"hasPolicy\": {\n",
    "                        \"bsonType\": \"bool\",\n",
    "                        \"description\": \"Does insuree have health insurance?\"\n",
    "                    },\n",
    "                    \"riders\": {\n",
    "                        \"bsonType\": \"array\",\n",
    "                        \"items\": {\n",
    "                            \"enum\": [1, 2, 3, 4]\n",
    "                        },\n",
    "                        \"description\": \"Does insuree have riders on this health policy?\"\n",
    "                    }\n",
    "                }\n",
    "            },\n",
    "            \"premiumFrequency\": {\n",
    "                \"enum\": [1, 3, 12],\n",
    "                \"description\": \"Premium due monthly, quarterly, annually\"\n",
    "            },\n",
    "            \"eStatements\": {\n",
    "                \"bsonType\": \"bool\",\n",
    "                \"description\": \"Opted in for e-statements and e-policies?\"\n",
    "            },\n",
    "            \"monthlyPremium\": {\n",
    "                \"bsonType\": \"double\",\n",
    "                \"description\": \"Premium amount monthly\"\n",
    "            },\n",
    "            \"totalPremium\": {\n",
    "                \"bsonType\": \"double\",\n",
    "                \"description\": \"Total premium amount\"\n",
    "            },\n",
    "            \"renewal\": {\n",
    "                \"bsonType\": \"bool\",\n",
    "                \"description\": \"Does insuree renew at next premium cycle?\"\n",
    "            }\n",
    "        }\n",
    "    }\n",
    "}\n",
    "\n",
    "cmd = OrderedDict([('collMod', 'insuranceData'), ('validator', schema)])\n",
    "db.command(cmd)"
   ]
  }
 ],
 "metadata": {
  "kernelspec": {
   "display_name": "Python 3 (ipykernel)",
   "language": "python",
   "name": "python3"
  },
  "language_info": {
   "codemirror_mode": {
    "name": "ipython",
    "version": 3
   },
   "file_extension": ".py",
   "mimetype": "text/x-python",
   "name": "python",
   "nbconvert_exporter": "python",
   "pygments_lexer": "ipython3",
   "version": "3.9.12"
  }
 },
 "nbformat": 4,
 "nbformat_minor": 5
}
